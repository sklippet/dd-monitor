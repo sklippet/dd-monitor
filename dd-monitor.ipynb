{
 "cells": [
  {
   "cell_type": "code",
   "execution_count": null,
   "metadata": {},
   "outputs": [],
   "source": [
    "import praw\n",
    "from praw.models import MoreComments"
   ]
  },
  {
   "cell_type": "code",
   "execution_count": 2,
   "metadata": {},
   "outputs": [
    {
     "name": "stdout",
     "output_type": "stream",
     "text": [
      "✅ Successfully connected! Logged in as: Sklrz\n"
     ]
    }
   ],
   "source": [
    "reddit = praw.Reddit(\n",
    "    client_id=\"-0ZkBMk6cJ47a6sV3GEFZw\",\n",
    "    client_secret=\"GVwKJ820NFyQdoRNccqxMbppnmt_jQ\",\n",
    "    user_agent=\"dd-app\",\n",
    "    username=\"Sklrz\",\n",
    "    password=\"13Skl44Zuj256\"\n",
    ")\n",
    "try:\n",
    "    user = reddit.user.me()  # Fetch authenticated user info\n",
    "    print(f\"✅ Successfully connected! Logged in as: {user}\")\n",
    "except Exception as e:\n",
    "    print(f\"❌ Connection failed: {e}\")"
   ]
  },
  {
   "cell_type": "code",
   "execution_count": 3,
   "metadata": {},
   "outputs": [
    {
     "name": "stdout",
     "output_type": "stream",
     "text": [
      "['Discussion', 'DD', 'YOLO', 'Meme', 'News', 'Loss', 'Gain', 'Weekend Discussion', 'Earnings Thread', 'Daily Discussion']\n"
     ]
    }
   ],
   "source": [
    "subreddit = reddit.subreddit(\"wallstreetbets\")\n",
    "flairs = []\n",
    "for post in subreddit.new(limit=50):\n",
    "    if post.link_flair_text not in flairs:\n",
    "        flairs.append(post.link_flair_text)\n",
    "print (flairs)"
   ]
  },
  {
   "cell_type": "code",
   "execution_count": 4,
   "metadata": {},
   "outputs": [
    {
     "name": "stdout",
     "output_type": "stream",
     "text": [
      "US car payment delinquencies reach 33-year high: Analysis\n",
      "6372\n",
      "Found comment in post: US car payment delinquencies reach 33-year high: Analysis\n",
      "Comment: \n",
      "**User Report**| | | |\n",
      ":--|:--|:--|:--\n",
      "**Total Submissions** | 3 | **First Seen In WSB** | 4 years ago\n",
      "**Total Comments** | 119 | **Previous Best DD** | \n",
      "**Account Age** | 13 years | | \n",
      "\n",
      "[**Join WSB Discord**](http://discord.gg/wsbverse)\n",
      "Nasdaq to Enable 24h Trading in 2026\n",
      "2440\n",
      "Found comment in post: Nasdaq to Enable 24h Trading in 2026\n",
      "Comment: \n",
      "**User Report**| | | |\n",
      ":--|:--|:--|:--\n",
      "**Total Submissions** | 1 | **First Seen In WSB** | 4 years ago\n",
      "**Total Comments** | 14 | **Previous Best DD** | \n",
      "**Account Age** | 7 years | | \n",
      "\n",
      "[**Join WSB Discord**](http://discord.gg/wsbverse)\n",
      "Robinhood to Pay $26 Million to Settle Finra Allegations\n",
      "206\n",
      "Found comment in post: Robinhood to Pay $26 Million to Settle Finra Allegations\n",
      "Comment: \n",
      "**User Report**| | | |\n",
      ":--|:--|:--|:--\n",
      "**Total Submissions** | 5 | **First Seen In WSB** | 10 months ago\n",
      "**Total Comments** | 205 | **Previous Best DD** | \n",
      "**Account Age** | 6 years | | \n",
      "\n",
      "[**Join WSB Discord**](http://discord.gg/wsbverse)\n",
      "February Jobs Report\n",
      "1083\n",
      "Found comment in post: February Jobs Report\n",
      "Comment: \n",
      "**User Report**| | | |\n",
      ":--|:--|:--|:--\n",
      "**Total Submissions** | 10 | **First Seen In WSB** | 5 months ago\n",
      "**Total Comments** | 1208 | **Previous Best DD** | \n",
      "**Account Age** | 3 years | | \n",
      "\n",
      "[**Join WSB Discord**](http://discord.gg/wsbverse)\n",
      "Intuitive Machines does not expect Athena to recharge, says mission concluded\n",
      "628\n",
      "Found comment in post: Intuitive Machines does not expect Athena to recharge, says mission concluded\n",
      "Comment: \n",
      "**User Report**| | | |\n",
      ":--|:--|:--|:--\n",
      "**Total Submissions** | 10 | **First Seen In WSB** | 1 year ago\n",
      "**Total Comments** | 851 | **Previous Best DD** | \n",
      "**Account Age** | 5 years | | \n",
      "\n",
      "[**Join WSB Discord**](http://discord.gg/wsbverse)\n",
      "BREAKING: President Trump signs executive order officially creating a Bitc0in Strategic Reserve.\n",
      "13554\n",
      "Found comment in post: BREAKING: President Trump signs executive order officially creating a Bitc0in Strategic Reserve.\n",
      "Comment: \n",
      "**User Report**| | | |\n",
      ":--|:--|:--|:--\n",
      "**Total Submissions** | 10 | **First Seen In WSB** | 5 years ago\n",
      "**Total Comments** | 16 | **Previous Best DD** | \n",
      "**Account Age** | 5 years | | \n",
      "\n",
      "[**Join WSB Discord**](http://discord.gg/wsbverse)\n"
     ]
    }
   ],
   "source": [
    "for post in subreddit.rising(limit=50):  # Get the 50 rising posts\n",
    "    if post.link_flair_text and post.link_flair_text.lower() == \"news\":\n",
    "        print(post.title)  # to make it non-lazy\n",
    "        print(post.score)\n",
    "        for com in post.comments:\n",
    "            if isinstance(com, MoreComments):\n",
    "                continue\n",
    "            if \"user report\".lower() in com.body.lower():  # Check if \"user report\" is in the comment\n",
    "                print(f\"Found comment in post: {post.title}\")\n",
    "                print(f\"Comment: {com.body}\")\n",
    "        #print(f\"Title: {post.title}\\nFlair: {post.link_flair_text}\\nText: {post.selftext[:300]}...\\n\")"
   ]
  },
  {
   "cell_type": "code",
   "execution_count": 5,
   "metadata": {},
   "outputs": [
    {
     "name": "stdout",
     "output_type": "stream",
     "text": [
      "Title: GRRR - Gorilla technology group - A 'deep' dive into\n",
      "Flair: DD\n",
      "Text: https://preview.redd.it/9y63pv35ione1.png?width=870&format=png&auto=webp&s=12f4f27b42603aa177a784a495d24d16d0eeae77\n",
      "\n",
      "Hey everyone, I'm sharing this DD because, compared to other analyses I've seen, th...\n",
      "\n"
     ]
    }
   ],
   "source": [
    "for post in subreddit.search(\"flair_name:DD\", sort=\"best\", time_filter=\"day\", limit=10):  # Limit set to 10, adjust as needed\n",
    "    print(f\"Title: {post.title}\\nFlair: {post.link_flair_text}\\nText: {post.selftext[:200]}...\\n\")"
   ]
  },
  {
   "cell_type": "code",
   "execution_count": null,
   "metadata": {},
   "outputs": [
    {
     "name": "stdout",
     "output_type": "stream",
     "text": [
      "This post contains content not supported on old Reddit. [Click here to view the full post](https://sh.reddit.com/r/wallstreetbets/comments/1j6053c)\n"
     ]
    }
   ],
   "source": [
    "app = subreddit.sticky()\n",
    "print(app.selftext)"
   ]
  }
 ],
 "metadata": {
  "kernelspec": {
   "display_name": "usr",
   "language": "python",
   "name": "python3"
  },
  "language_info": {
   "codemirror_mode": {
    "name": "ipython",
    "version": 3
   },
   "file_extension": ".py",
   "mimetype": "text/x-python",
   "name": "python",
   "nbconvert_exporter": "python",
   "pygments_lexer": "ipython3",
   "version": "3.13.1"
  }
 },
 "nbformat": 4,
 "nbformat_minor": 2
}
